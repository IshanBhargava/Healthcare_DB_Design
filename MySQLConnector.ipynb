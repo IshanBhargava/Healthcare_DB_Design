{
 "cells": [
  {
   "cell_type": "code",
   "execution_count": 61,
   "id": "6ad92c1f",
   "metadata": {},
   "outputs": [
    {
     "name": "stdout",
     "output_type": "stream",
     "text": [
      "Are we connected to the database?   True\n"
     ]
    }
   ],
   "source": [
    "import mysql.connector\n",
    "\n",
    "db = mysql.connector.connect(\n",
    "    host=\"localhost\",\n",
    "    user=\"root\",\n",
    "    passwd=\"deadshot\",\n",
    "    database=\"HEALTHCARE\"\n",
    ")\n",
    "\n",
    "print(\"Are we connected to the database?  \", db.is_connected())\n",
    "\n",
    "query1 = 'SELECT COUNT(PRES.RX_ID) AS Total_Num_Pres, ROUND(SUM(SUB.RX_TOTAL), 2) AS Total_Price, ROUND(AVG(SUB.RX_TOTAL),2) AS Average_Price, MIN(SUB.RX_TOTAL) AS Min_Price, MAX(SUB.RX_TOTAL) AS Max_Price FROM PRESCRIPTION AS PRES JOIN SUBTOT_TAX_TOT AS SUB ON PRES.RX_ID = SUB.RX_ID;'\n",
    "query2 = 'SELECT DRUG_NAME, RX_LINE_PRICE as \"Price in $\" FROM PRESCRIPTION_LINES NATURAL JOIN DRUGS;'\n",
    "query3 = 'SELECT POL_NAME, Count(*) as \"Number of People\" FROM PATIENT as P NATURAL JOIN INSURANCE as I GROUP BY P.POL_ID;'\n",
    "\n",
    "cur = db.cursor()"
   ]
  },
  {
   "cell_type": "code",
   "execution_count": 70,
   "id": "b2199bea",
   "metadata": {},
   "outputs": [
    {
     "name": "stdout",
     "output_type": "stream",
     "text": [
      "['Total_Num_Pres', 'Total_Price', 'Average_Price', 'Min_Price', 'Max_Price']\n",
      "[5, 28908.08, 5781.62, 1338.11, 8478.75]\n"
     ]
    }
   ],
   "source": [
    "cur.execute(query1)\n",
    "\n",
    "print([i[0] for i in cur.description])\n",
    "\n",
    "for line in cur:\n",
    "    print(list(line))"
   ]
  },
  {
   "cell_type": "code",
   "execution_count": 71,
   "id": "3856ffa4",
   "metadata": {
    "scrolled": true
   },
   "outputs": [
    {
     "name": "stdout",
     "output_type": "stream",
     "text": [
      "['DRUG_NAME', 'Price in $']\n",
      "['Basaglar', 70.0]\n",
      "['Gabapentin', 63.0]\n",
      "['Amoxicillin', 56.0]\n",
      "['Sertraline', 48.99]\n",
      "['Losartan Potassium', 42.0]\n",
      "['Omeprazole', 34.99]\n",
      "['Azithromycin', 27.5]\n",
      "['Proair', 20.99]\n",
      "['Lisinopril', 14.0]\n",
      "['Ventolin', 6.99]\n"
     ]
    }
   ],
   "source": [
    "cur.execute(query2)\n",
    "\n",
    "print([i[0] for i in cur.description])\n",
    "\n",
    "for line in cur:\n",
    "    print(list(line))"
   ]
  },
  {
   "cell_type": "code",
   "execution_count": 59,
   "id": "2329b043",
   "metadata": {},
   "outputs": [
    {
     "name": "stdout",
     "output_type": "stream",
     "text": [
      "['POL_NAME', 'Number of People']\n",
      "[('POS', 9), ('PPO', 3), ('HMO', 1), ('EPO', 2)]\n"
     ]
    }
   ],
   "source": [
    "cur.execute(query3)\n",
    "\n",
    "print([i[0] for i in cur.description])\n",
    "\n",
    "for line in cur:\n",
    "    print(list(line))"
   ]
  },
  {
   "cell_type": "code",
   "execution_count": null,
   "id": "5355e85a",
   "metadata": {},
   "outputs": [],
   "source": []
  }
 ],
 "metadata": {
  "kernelspec": {
   "display_name": "Python 3 (ipykernel)",
   "language": "python",
   "name": "python3"
  },
  "language_info": {
   "codemirror_mode": {
    "name": "ipython",
    "version": 3
   },
   "file_extension": ".py",
   "mimetype": "text/x-python",
   "name": "python",
   "nbconvert_exporter": "python",
   "pygments_lexer": "ipython3",
   "version": "3.9.13"
  }
 },
 "nbformat": 4,
 "nbformat_minor": 5
}
