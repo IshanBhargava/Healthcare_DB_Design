{
 "cells": [
  {
   "cell_type": "markdown",
   "id": "2b96a505",
   "metadata": {},
   "source": [
    "<center>  \n",
    "        CIS 552 Database Design <br>\n",
    "        Final Project <br>\n",
    "        $12-04-2022$\n",
    "</center>\n",
    "\n",
    "Group - <br>\n",
    "1. Ishan Bhargava - 02017165  <br>\n",
    "2. Phani Abhiram Raju Adidam Mohan Sai Venkata - 02073172\n",
    "        \n",
    "    "
   ]
  },
  {
   "cell_type": "markdown",
   "id": "0e1fd284",
   "metadata": {},
   "source": [
    "### *Importing the necessary libraries*"
   ]
  },
  {
   "cell_type": "code",
   "execution_count": 3,
   "id": "6de9eaf9",
   "metadata": {},
   "outputs": [],
   "source": [
    "import mysql.connector\n",
    "import pandas as pd\n",
    "import getpass"
   ]
  },
  {
   "cell_type": "markdown",
   "id": "60034ab7",
   "metadata": {},
   "source": [
    "### *Code to make a secure connection to the HEALTHCARE database*"
   ]
  },
  {
   "cell_type": "code",
   "execution_count": 7,
   "id": "6ad92c1f",
   "metadata": {},
   "outputs": [
    {
     "name": "stdout",
     "output_type": "stream",
     "text": [
      "root\n",
      "········\n",
      "\u001b[1;32m Connection Established!!\n"
     ]
    }
   ],
   "source": [
    "try:\n",
    "    \n",
    "    db = mysql.connector.connect(\n",
    "        host=\"localhost\",\n",
    "        user=input(),\n",
    "        passwd=getpass.getpass(),\n",
    "        database=\"HEALTHCARE\",\n",
    "        auth_plugin='mysql_native_password'\n",
    "    )\n",
    "    print(\"\\033[1;32m Connection Established!!\")\n",
    "except:\n",
    "    print(\"\\u001b[31;1m Connection Denied\")\n",
    "    \n",
    "cur = db.cursor()"
   ]
  },
  {
   "cell_type": "markdown",
   "id": "b3e2efe6",
   "metadata": {},
   "source": [
    "### Query 1 - We can query the total number of prescriptions, total price of all prescriptions, smallest and largest total and the average total of all prescriptions using PRESCRIPTION and PRESCRIPTION_LINES"
   ]
  },
  {
   "cell_type": "code",
   "execution_count": 8,
   "id": "f0d306c0",
   "metadata": {},
   "outputs": [],
   "source": [
    "query1 = 'SELECT COUNT(PRES.RX_ID) AS \"Total Number of Prescriptions\", ROUND(SUM(SUB.RX_TOTAL), 2) AS \"Total Price\", ROUND(AVG(SUB.RX_TOTAL),2) AS \"Average Price\", MIN(SUB.RX_TOTAL) AS \"Min Price\", MAX(SUB.RX_TOTAL) AS \"Max Price\" FROM PRESCRIPTION AS PRES JOIN SUBTOT_TAX_TOT AS SUB ON PRES.RX_ID = SUB.RX_ID;'"
   ]
  },
  {
   "cell_type": "code",
   "execution_count": 9,
   "id": "b2199bea",
   "metadata": {},
   "outputs": [
    {
     "data": {
      "text/html": [
       "<div>\n",
       "<style scoped>\n",
       "    .dataframe tbody tr th:only-of-type {\n",
       "        vertical-align: middle;\n",
       "    }\n",
       "\n",
       "    .dataframe tbody tr th {\n",
       "        vertical-align: top;\n",
       "    }\n",
       "\n",
       "    .dataframe thead th {\n",
       "        text-align: right;\n",
       "    }\n",
       "</style>\n",
       "<table border=\"1\" class=\"dataframe\">\n",
       "  <thead>\n",
       "    <tr style=\"text-align: right;\">\n",
       "      <th></th>\n",
       "      <th>Total Number of Prescriptions</th>\n",
       "      <th>Total Price</th>\n",
       "      <th>Average Price</th>\n",
       "      <th>Min Price</th>\n",
       "      <th>Max Price</th>\n",
       "    </tr>\n",
       "  </thead>\n",
       "  <tbody>\n",
       "    <tr>\n",
       "      <th>0</th>\n",
       "      <td>5</td>\n",
       "      <td>28908.08</td>\n",
       "      <td>5781.62</td>\n",
       "      <td>1338.11</td>\n",
       "      <td>8478.75</td>\n",
       "    </tr>\n",
       "  </tbody>\n",
       "</table>\n",
       "</div>"
      ],
      "text/plain": [
       "   Total Number of Prescriptions  Total Price  Average Price  Min Price  \\\n",
       "0                              5     28908.08        5781.62    1338.11   \n",
       "\n",
       "   Max Price  \n",
       "0    8478.75  "
      ]
     },
     "metadata": {},
     "output_type": "display_data"
    }
   ],
   "source": [
    "cur.execute(query1) # Executing query 1\n",
    "q1_colnames = [i[0] for i in cur.description] # Gathering the column names for the execute query\n",
    "\n",
    "q1_rows = []\n",
    "for line in cur:\n",
    "    q1_rows.append(list(line)) # Collecting all the rows of query\n",
    "    \n",
    "q1 = pd.DataFrame(data = q1_rows, columns = q1_colnames) # Creating a dataframe of the query and displaying the same\n",
    "display(q1)"
   ]
  },
  {
   "cell_type": "markdown",
   "id": "fd13bed6",
   "metadata": {},
   "source": [
    "### Query 2 - We can query the drugs with lowest price and highest price using DRUGS and PRESCRIPTION_LINES tables"
   ]
  },
  {
   "cell_type": "code",
   "execution_count": 10,
   "id": "b234c3cf",
   "metadata": {},
   "outputs": [],
   "source": [
    "query2 = \"SELECT DRUG_NAME AS 'Drugs', RX_LINE_PRICE AS 'Price' FROM PRESCRIPTION_LINES NATURAL JOIN DRUGS WHERE RX_LINE_PRICE IN (SELECT MIN(RX_LINE_PRICE) FROM PRESCRIPTION_LINES) OR RX_LINE_PRICE IN (SELECT MAX(RX_LINE_PRICE) FROM PRESCRIPTION_LINES);\""
   ]
  },
  {
   "cell_type": "code",
   "execution_count": 11,
   "id": "3856ffa4",
   "metadata": {},
   "outputs": [
    {
     "data": {
      "text/html": [
       "<div>\n",
       "<style scoped>\n",
       "    .dataframe tbody tr th:only-of-type {\n",
       "        vertical-align: middle;\n",
       "    }\n",
       "\n",
       "    .dataframe tbody tr th {\n",
       "        vertical-align: top;\n",
       "    }\n",
       "\n",
       "    .dataframe thead th {\n",
       "        text-align: right;\n",
       "    }\n",
       "</style>\n",
       "<table border=\"1\" class=\"dataframe\">\n",
       "  <thead>\n",
       "    <tr style=\"text-align: right;\">\n",
       "      <th></th>\n",
       "      <th>Drugs</th>\n",
       "      <th>Price</th>\n",
       "    </tr>\n",
       "  </thead>\n",
       "  <tbody>\n",
       "    <tr>\n",
       "      <th>0</th>\n",
       "      <td>Basaglar</td>\n",
       "      <td>70.00</td>\n",
       "    </tr>\n",
       "    <tr>\n",
       "      <th>1</th>\n",
       "      <td>Ventolin</td>\n",
       "      <td>6.99</td>\n",
       "    </tr>\n",
       "  </tbody>\n",
       "</table>\n",
       "</div>"
      ],
      "text/plain": [
       "      Drugs  Price\n",
       "0  Basaglar  70.00\n",
       "1  Ventolin   6.99"
      ]
     },
     "metadata": {},
     "output_type": "display_data"
    }
   ],
   "source": [
    "cur.execute(query2) # Executing query 2\n",
    "q2_colnames = [i[0] for i in cur.description] # Gathering the column names for the execute query\n",
    "\n",
    "q2_rows = []\n",
    "for line in cur:\n",
    "    q2_rows.append(list(line)) # Collecting all the rows of query\n",
    "    \n",
    "q2 = pd.DataFrame(data = q2_rows, columns = q2_colnames) # Creating a dataframe of the query and displaying the same\n",
    "display(q2)"
   ]
  },
  {
   "cell_type": "markdown",
   "id": "cfb41ab4",
   "metadata": {},
   "source": [
    "### Query 3 - We can query the most opted insurance policy from PATIENT table"
   ]
  },
  {
   "cell_type": "code",
   "execution_count": 12,
   "id": "1cbc7525",
   "metadata": {},
   "outputs": [],
   "source": [
    "query3 = 'SELECT POL_NAME AS \"Policy\", Count(*) as \"Number of People enrolled\" FROM PATIENT as P NATURAL JOIN INSURANCE as I GROUP BY P.POL_ID ORDER BY COUNT(*) DESC LIMIT 1;'"
   ]
  },
  {
   "cell_type": "code",
   "execution_count": 13,
   "id": "2329b043",
   "metadata": {},
   "outputs": [
    {
     "data": {
      "text/html": [
       "<div>\n",
       "<style scoped>\n",
       "    .dataframe tbody tr th:only-of-type {\n",
       "        vertical-align: middle;\n",
       "    }\n",
       "\n",
       "    .dataframe tbody tr th {\n",
       "        vertical-align: top;\n",
       "    }\n",
       "\n",
       "    .dataframe thead th {\n",
       "        text-align: right;\n",
       "    }\n",
       "</style>\n",
       "<table border=\"1\" class=\"dataframe\">\n",
       "  <thead>\n",
       "    <tr style=\"text-align: right;\">\n",
       "      <th></th>\n",
       "      <th>Policy</th>\n",
       "      <th>Number of People enrolled</th>\n",
       "    </tr>\n",
       "  </thead>\n",
       "  <tbody>\n",
       "    <tr>\n",
       "      <th>0</th>\n",
       "      <td>POS</td>\n",
       "      <td>9</td>\n",
       "    </tr>\n",
       "  </tbody>\n",
       "</table>\n",
       "</div>"
      ],
      "text/plain": [
       "  Policy  Number of People enrolled\n",
       "0    POS                          9"
      ]
     },
     "metadata": {},
     "output_type": "display_data"
    }
   ],
   "source": [
    "cur.execute(query3) # Executing query 3\n",
    "q3_colnames = [i[0] for i in cur.description] # Gathering the column names for the execute query\n",
    "\n",
    "q3_rows = []\n",
    "for line in cur:\n",
    "#     print(list(line))\n",
    "    q3_rows.append(list(line)) # Collecting all the rows of query\n",
    "    \n",
    "q3 = pd.DataFrame(data = q3_rows, columns = q3_colnames) # Creating a dataframe of the query and displaying the same\n",
    "display(q3)"
   ]
  },
  {
   "cell_type": "code",
   "execution_count": null,
   "id": "6a22513e",
   "metadata": {},
   "outputs": [],
   "source": []
  }
 ],
 "metadata": {
  "kernelspec": {
   "display_name": "Python 3 (ipykernel)",
   "language": "python",
   "name": "python3"
  },
  "language_info": {
   "codemirror_mode": {
    "name": "ipython",
    "version": 3
   },
   "file_extension": ".py",
   "mimetype": "text/x-python",
   "name": "python",
   "nbconvert_exporter": "python",
   "pygments_lexer": "ipython3",
   "version": "3.9.13"
  }
 },
 "nbformat": 4,
 "nbformat_minor": 5
}
